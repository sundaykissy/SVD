{
 "cells": [
  {
   "cell_type": "code",
   "execution_count": 21,
   "id": "c3a2e9be-bf41-47b6-ba14-8a058e1a4793",
   "metadata": {},
   "outputs": [
    {
     "name": "stdout",
     "output_type": "stream",
     "text": [
      "RMSE: 0.9351\n"
     ]
    },
    {
     "data": {
      "text/plain": [
       "2.996535028031628"
      ]
     },
     "execution_count": 21,
     "metadata": {},
     "output_type": "execute_result"
    }
   ],
   "source": [
    "# A simple SVD Recommender system\n",
    "\n",
    "\n",
    "#importing neccessary packages\n",
    "from surprise import SVD\n",
    "from surprise import Dataset\n",
    "from surprise import accuracy\n",
    "from surprise.model_selection import train_test_split\n",
    "\n",
    "# Load the movielens-100k dataset (it wil download it if needed)\n",
    "\n",
    "data=Dataset.load_builtin('ml-100k')\n",
    "#Dividing the Data in test and train\n",
    "trainset, testset=train_test_split(data, test_size=.20)\n",
    "\n",
    "#initializing the SVD algorithm\n",
    "model=SVD()\n",
    "\n",
    "# Fitting the model\n",
    "model.fit(trainset)\n",
    "\n",
    "#making the prediction\n",
    "prediction=model.test(testset)\n",
    "\n",
    "#computing the error(RMSE in this case)\n",
    "accuracy.rmse(prediction)\n",
    "\n",
    "#predicting rating for a user for a movie\n",
    "\n",
    "uid=str(450) # raw user id\n",
    "\n",
    "lid=str(130)\n",
    "\n",
    "#get a prediction for specific users and items\n",
    "\n",
    "pred=model.predict(uid, lid)\n",
    "\n",
    "# view predicting rating\n",
    "pred.est \n"
   ]
  },
  {
   "cell_type": "code",
   "execution_count": 19,
   "id": "96004177-74f3-4695-b584-68303a2cf1a9",
   "metadata": {},
   "outputs": [
    {
     "name": "stdout",
     "output_type": "stream",
     "text": [
      "A:\n",
      " [[1. 0. 0.]\n",
      " [5. 0. 2.]\n",
      " [0. 1. 0.]\n",
      " [0. 0. 3.]\n",
      " [4. 0. 9.]]\n",
      "=\n",
      "\n",
      "U:\n",
      " [[ 2.21829477e-01  4.58445949e-02]\n",
      " [ 8.50288016e-01  3.86369035e-01]\n",
      " [ 1.00495461e-17  9.54838383e-18]\n",
      " [-3.88289052e-01  2.35719092e-01]\n",
      " [-2.77549248e-01  8.90535654e-01]]\n",
      "\n",
      "Σ:\n",
      " [ 3.89366418 10.99269663]\n",
      "\n",
      "V.T:\n",
      " [[ 8.63729488e-01  3.91295578e-17 -5.03955724e-01]\n",
      " [ 5.03955724e-01  1.04962487e-16  8.63729488e-01]]\n",
      "\n",
      "Approximation of Ratings Matrix\n",
      "\n",
      "Rounded Approximation of Ratings Matrix\n"
     ]
    },
    {
     "data": {
      "text/plain": [
       "array([[1., 0., 0.],\n",
       "       [5., 0., 2.],\n",
       "       [0., 0., 0.],\n",
       "       [0., 0., 3.],\n",
       "       [4., 0., 9.]])"
      ]
     },
     "execution_count": 19,
     "metadata": {},
     "output_type": "execute_result"
    }
   ],
   "source": [
    "# how to use SVD to decompose a matrix using Python.\n",
    "\n",
    "from scipy.sparse import csc_matrix # we use the csc_matrix to create a sparse matrix object\n",
    "from scipy.sparse.linalg import svds\n",
    "\n",
    "import numpy as np\n",
    "\n",
    "\n",
    "# Create a sparse matrix \n",
    "A = csc_matrix([[1, 0, 0], [5, 0, 2], [0, 1, 0], [0, 0, 3], [4, 0, 9]], dtype=float)\n",
    "\n",
    "# Apply SVD\n",
    "u, s, vt = svds(A, k=2) # k is the number of stretching factors\n",
    "\n",
    "print ('A:\\n', A.toarray())\n",
    "print ('=')\n",
    "print ('\\nU:\\n', u)\n",
    "print ('\\nΣ:\\n', s)\n",
    "print ('\\nV.T:\\n', vt)\n",
    "\n",
    "\n",
    "\n",
    "print('\\nApproximation of Ratings Matrix')\n",
    "u.dot(np.diag(s).dot(vt))\n",
    "\n",
    "\n",
    "print('\\nRounded Approximation of Ratings Matrix')\n",
    "np.round(u.dot(np.diag(s).dot(vt)))\n"
   ]
  },
  {
   "cell_type": "code",
   "execution_count": null,
   "id": "eeec5f6a-cffa-415d-bf91-d35a3994dc84",
   "metadata": {},
   "outputs": [],
   "source": []
  }
 ],
 "metadata": {
  "kernelspec": {
   "display_name": "Python 3",
   "language": "python",
   "name": "python3"
  },
  "language_info": {
   "codemirror_mode": {
    "name": "ipython",
    "version": 3
   },
   "file_extension": ".py",
   "mimetype": "text/x-python",
   "name": "python",
   "nbconvert_exporter": "python",
   "pygments_lexer": "ipython3",
   "version": "3.8.8"
  }
 },
 "nbformat": 4,
 "nbformat_minor": 5
}
